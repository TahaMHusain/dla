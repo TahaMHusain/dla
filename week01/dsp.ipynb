{
 "cells": [
  {
   "cell_type": "code",
   "execution_count": 65,
   "metadata": {},
   "outputs": [],
   "source": [
    "from math import pi\n",
    "from numpy import linspace, sin, cos\n",
    "from matplotlib import pyplot as plt\n",
    "\n",
    "import pylab\n",
    "import ipywidgets"
   ]
  },
  {
   "cell_type": "markdown",
   "metadata": {},
   "source": [
    "## Signals\n",
    "\n",
    "There are many definitions of \"signal\" in different areas, but this is not so important to us. Therefore, we will assume that a signal is a description of how one parameter depends on another parameter.  [[Steven W. Smith]](http://www.dspguide.com/ch2/1.htm). The most common type of signal in analog electronics is a voltage that changes over time. Also, for example, seismic vibrations or audio signals. \n",
    "\n",
    "We are interested in **audio signals**, so it is worthwhile to understand a little about the physics. In short, sound is undulating compressions and rarefactions of air or some other medium. How is sound recorded? We usually plug in a microphone and use it to record something into the computer. So, we have a sound, which is the fluctuation of air pressure. The sound enters the microphone, which is an input transducer, and it converts fluctuations in air pressure into fluctuations in electrical voltage. \n",
    "\n",
    "According to the method of setting, signals can be divided into two types:\n",
    "* **Deterministic signals**. They are set using some kind of analytical function.\n",
    "* **Random signals**. They arise from random processes and are not covered in this course :) \n",
    "\n",
    "Deterministic signals can be divided into **periodic** and **non-periodic**. Non-periodic signals are usually time limited. \n",
    "A periodic signal is a signal that repeats in time with a certain period $T$, that is, for which the following condition is met: \n",
    "\n",
    "$$\n",
    "f(t) = f(t + kT), \\: k \\in \\mathbb{Z}, T \\in \\mathbb{R}\n",
    "$$\n",
    "\n",
    "For example, consider a harmonic waveform described as follows: \n",
    "$$\n",
    "    f(t) = A \\cos\\Big(\\frac{2\\pi \\cdot t}{T} + \\phi \\Big)\n",
    "$$\n",
    "where $A$ is the amplitude, $T$ is the period, and $\\phi$ is the phase of the signal. \n",
    "\n",
    "Let's look at harmonic oscillation in more detail, since this is important for the Fourier transform. "
   ]
  },
  {
   "cell_type": "code",
   "execution_count": 74,
   "metadata": {
    "code_folding": [
     0,
     5
    ]
   },
   "outputs": [
    {
     "data": {
      "application/vnd.jupyter.widget-view+json": {
       "model_id": "642548ccad494a25b28bbb0b5f0d3bc1",
       "version_major": 2,
       "version_minor": 0
      },
      "text/plain": [
       "interactive(children=(FloatSlider(value=1.0, description='A', max=5.0), FloatSlider(value=6.283185307179586, d…"
      ]
     },
     "metadata": {},
     "output_type": "display_data"
    }
   ],
   "source": [
    "@ipywidgets.widgets.interact( \n",
    "    A=(0, 5.),\n",
    "    T=(pi / 2, 4 * pi),\n",
    "    ϕ=(-pi, pi)\n",
    ")\n",
    "def harmonic_motion(A=1, T=2 * pi, ϕ=0):\n",
    "    t = linspace(0, 6 * pi, 1000)\n",
    "    s = A * cos((2 * pi * t) / T + ϕ)\n",
    "    _, ax = plt.subplots(1, 1, figsize=(10, 3))\n",
    "    ax.plot(t, s)\n",
    "    ax.set_xlabel('Time')\n",
    "    ax.set_ylabel('Amplitude')\n",
    "    ax.grid()\n",
    "    plt.show()"
   ]
  },
  {
   "cell_type": "markdown",
   "metadata": {},
   "source": [
    "All signals can be divided into four groups:\n",
    "* Analog\n",
    "* Discrete\n",
    "* Quantized\n",
    "* Digital \n",
    "\n",
    "**Analog signal** is any continuous signal. Almost all physical processes are described by continuous functions of time, therefore, they are analog signals. For an analog signal, the range of values ​​and definitions is described by a continuous set.\n",
    "\n",
    "**Discrete signal** is an analog signal sampled from $ \\Delta$ intervals. Sampling of an analog signal means that the signal is represented as a sequence of values ​​(samples) taken at discrete times $t_i$ with a step $\\Delta$.\n",
    "\n",
    "**Quantized signal** is a signal whose values ​​are quantized. Signal quantization consists in the fact that the range of signal values ​​is divided into $ N $ levels with a $\\Delta$ step and for each sample the level that corresponds to it is selected. It should be noted that the level can be encoded with a binary word of length $\\log N$\n",
    "\n",
    "**Digital signal** is a signal that has been flooded and then quantized. But order is not really important. \n",
    "\n",
    "Devices that perform time sampling and level quantization are called analog-to-digital converters (ADCs). Devices that convert a digital signal to analog are called digital-to-analog converters (DAC)."
   ]
  },
  {
   "cell_type": "code",
   "execution_count": 76,
   "metadata": {
    "code_folding": [
     0,
     7,
     13
    ]
   },
   "outputs": [
    {
     "data": {
      "application/vnd.jupyter.widget-view+json": {
       "model_id": "573cc8199dc3433bbf2d5510a4ef91fe",
       "version_major": 2,
       "version_minor": 0
      },
      "text/plain": [
       "interactive(children=(FloatSlider(value=1.0, description='A', max=5.0), FloatSlider(value=6.283185307179586, d…"
      ]
     },
     "metadata": {},
     "output_type": "display_data"
    }
   ],
   "source": [
    "@ipywidgets.widgets.interact( # get rid of '_manual' to see changes in real time\n",
    "    A=(0, 5.),\n",
    "    T=(pi / 2, 4 * pi),\n",
    "    ϕ=(-pi, pi),\n",
    "    Δ=(0, 50),\n",
    "    N=(2, 50),\n",
    ")\n",
    "def signal_types(\n",
    "    A=1,\n",
    "    T=2 * pi,\n",
    "    ϕ=0,\n",
    "    Δ=5,\n",
    "    N=5,\n",
    "):\n",
    "    t = linspace(0, 6 * pi, 1000)\n",
    "    s = A * cos((2 * pi * t) / T + ϕ)\n",
    "            \n",
    "    _, axes = plt.subplots(2, 2, figsize=(10 * 2, 8))\n",
    "    axes = axes.flatten()\n",
    "    axes[0].plot(t, s)\n",
    "    axes[0].set_title('Analog signal')\n",
    "    \n",
    "    axes[1].set_title('Discrete signal')\n",
    "    axes[1].stem(t[::Δ], s[::Δ], use_line_collection=True)\n",
    "    \n",
    "    def quantize(s):\n",
    "        levels = linspace(-A, A, N)\n",
    "        quantized = levels[((s.reshape(-1, 1) - levels) ** 2).argmin(axis=-1)]\n",
    "        return quantized\n",
    "        \n",
    "    axes[2].set_title('Quantized signal')\n",
    "    axes[2].plot(t, quantize(s))\n",
    "    \n",
    "    axes[3].set_title('Digital signal')\n",
    "    axes[3].stem(t[::Δ], quantize(s[::Δ]), use_line_collection=True)\n",
    "    \n",
    "    for i, ax in enumerate(axes):\n",
    "        ax.grid()\n",
    "        plt.show()"
   ]
  },
  {
   "cell_type": "code",
   "execution_count": null,
   "metadata": {},
   "outputs": [],
   "source": []
  }
 ],
 "metadata": {
  "hide_input": false,
  "kernelspec": {
   "display_name": "dla",
   "language": "python",
   "name": "dla"
  },
  "language_info": {
   "codemirror_mode": {
    "name": "ipython",
    "version": 3
   },
   "file_extension": ".py",
   "mimetype": "text/x-python",
   "name": "python",
   "nbconvert_exporter": "python",
   "pygments_lexer": "ipython3",
   "version": "3.9.7"
  }
 },
 "nbformat": 4,
 "nbformat_minor": 4
}
