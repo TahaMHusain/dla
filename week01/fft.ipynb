{
 "cells": [
  {
   "cell_type": "code",
   "execution_count": null,
   "metadata": {},
   "outputs": [],
   "source": [
    "%pylab inline\n",
    "\n",
    "from IPython.display import clear_output\n",
    "\n",
    "import time\n",
    "from scipy.fftpack import fft, ifft, fftshift, fftfreq"
   ]
  },
  {
   "cell_type": "code",
   "execution_count": null,
   "metadata": {},
   "outputs": [],
   "source": [
    "def f(x):\n",
    "    return 2 * sin(2 * x + 2) + 5 - 3 * np.cos(0.2 * x - 1)"
   ]
  },
  {
   "cell_type": "code",
   "execution_count": null,
   "metadata": {},
   "outputs": [],
   "source": [
    "t = np.linspace(0, np.pi * 2, 256)\n",
    "f_t = f(t)\n",
    "\n",
    "plt.figure(figsize=(20, 5))\n",
    "plt.plot(t, f_t)\n",
    "plt.show()"
   ]
  },
  {
   "cell_type": "code",
   "execution_count": null,
   "metadata": {},
   "outputs": [],
   "source": [
    "t = np.linspace(0, 2 * np.pi, 256)\n",
    "f_t = f(t)\n",
    "\n",
    "n_fft = 256\n",
    "step = 10\n",
    "fourier_coefs = fft(f_t, n_fft)\n",
    "frequencies = fftfreq(n_fft, 2 * np.pi /  256)\n",
    "\n",
    "decomposition = 0\n",
    "for i, coef in enumerate(fourier_coefs):        \n",
    "    sinewave = (1. / len(t)) * \\\n",
    "        (\n",
    "            coef.real * np.cos(frequencies[i] * 2 * np.pi * t) - \\\n",
    "            coef.imag * np.sin(frequencies[i] * 2 * np.pi * t)\n",
    "        )\n",
    "    \n",
    "    decomposition += sinewave\n",
    "    \n",
    "    if i % step == 0 or i == len(fourier_coefs) - 1:\n",
    "        clear_output()\n",
    "\n",
    "        plt.plot(t, f_t, label='Original Signal', c='green')\n",
    "        plt.plot(t, decomposition, c='red', label=f'Decomposition. {i} freqs')\n",
    "        plt.legend()\n",
    "        plt.grid()\n",
    "        plt.show()\n",
    "\n",
    "        time.sleep(1)"
   ]
  }
 ],
 "metadata": {
  "kernelspec": {
   "display_name": "Python 3 (ipykernel)",
   "language": "python",
   "name": "python3"
  },
  "language_info": {
   "codemirror_mode": {
    "name": "ipython",
    "version": 3
   },
   "file_extension": ".py",
   "mimetype": "text/x-python",
   "name": "python",
   "nbconvert_exporter": "python",
   "pygments_lexer": "ipython3",
   "version": "3.9.6"
  }
 },
 "nbformat": 4,
 "nbformat_minor": 4
}
